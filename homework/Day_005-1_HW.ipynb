{
 "cells": [
  {
   "cell_type": "markdown",
   "metadata": {},
   "source": [
    "# [作業目標]\n",
    "- 利用範例的創建方式, 創建一組資料, 並練習如何取出最大值"
   ]
  },
  {
   "cell_type": "markdown",
   "metadata": {},
   "source": [
    "# [作業重點]\n",
    "- 練習創立 DataFrame (In[2])\n",
    "- 如何取出口數最多的國家 (In[3], Out[3])"
   ]
  },
  {
   "cell_type": "markdown",
   "metadata": {},
   "source": [
    "## 練習時間\n",
    "在小量的資料上，我們用眼睛就可以看得出來程式碼是否有跑出我們理想中的結果\n",
    "\n",
    "請嘗試想像一個你需要的資料結構 (裡面的值可以是隨機的)，然後用上述的方法把它變成 pandas DataFrame\n",
    "\n",
    "#### Ex: 想像一個 dataframe 有兩個欄位，一個是國家，一個是人口，求人口數最多的國家\n",
    "\n",
    "### Hints: [隨機產生數值](https://blog.csdn.net/christianashannon/article/details/78867204)"
   ]
  },
  {
   "cell_type": "code",
   "execution_count": 2,
   "metadata": {},
   "outputs": [],
   "source": [
    "import pandas as pd\n",
    "import numpy as np"
   ]
  },
  {
   "cell_type": "code",
   "execution_count": 3,
   "metadata": {},
   "outputs": [
    {
     "name": "stdout",
     "output_type": "stream",
     "text": [
      "[('Country', ['美國', '台灣', '日本', '韓國', '加拿大', '新加坡', '英國']), ('Population', array([ 2638443, 60960251, 17379244, 42512501, 24182547, 54517191,\n",
      "       38337952])), ('Weekday', ['Sun', 'Sat', 'Sun', 'Sat', 'Sat', 'Sun', 'Sun']), ('Man(%)', array([36, 52, 37, 49, 48, 48, 74])), ('Woman(%)', array([64, 48, 63, 51, 52, 52, 26]))]\n",
      "  Country  Population Weekday  Man(%)  Woman(%)\n",
      "0      美國     2638443     Sun      36        64\n",
      "1      台灣    60960251     Sat      52        48\n",
      "2      日本    17379244     Sun      37        63\n",
      "3      韓國    42512501     Sat      49        51\n",
      "4     加拿大    24182547     Sat      48        52\n",
      "5     新加坡    54517191     Sun      48        52\n",
      "6      英國    38337952     Sun      74        26\n"
     ]
    }
   ],
   "source": [
    "countries = ['美國','台灣','日本','韓國','加拿大','新加坡','英國']\n",
    "population = np.random.randint(1000000,100000000, size=7)\n",
    "weekdays = ['Sun' , 'Sat' , 'Sun' , 'Sat' , 'Sat', 'Sun','Sun']\n",
    "Men = np.random.randint (20,80, size = 7)\n",
    "Women = 100 - Men\n",
    "list_label = ['Country' , 'Population', 'Weekday', 'Man(%)', 'Woman(%)']\n",
    "list_columns = [countries, population, weekdays, Men, Women]\n",
    "zipped =  list(zip(list_label , list_columns))\n",
    "print (zipped)\n",
    "df = pd.DataFrame(dict(zipped))\n",
    "print (df)"
   ]
  },
  {
   "cell_type": "code",
   "execution_count": 22,
   "metadata": {},
   "outputs": [
    {
     "name": "stdout",
     "output_type": "stream",
     "text": [
      "人口最多的國家 ：\n",
      "Ans : 1    台灣\n",
      "Name: Country, dtype: object\n"
     ]
    }
   ],
   "source": [
    "print ('人口最多的國家 ：')\n",
    "max_population_country = df [df['Population'] == df.loc[:,'Population'].max()]\n",
    "print ('Ans : '+  str(max_population_country['Country']))"
   ]
  },
  {
   "cell_type": "code",
   "execution_count": null,
   "metadata": {},
   "outputs": [],
   "source": []
  }
 ],
 "metadata": {
  "kernelspec": {
   "display_name": "Python 3",
   "language": "python",
   "name": "python3"
  },
  "language_info": {
   "codemirror_mode": {
    "name": "ipython",
    "version": 3
   },
   "file_extension": ".py",
   "mimetype": "text/x-python",
   "name": "python",
   "nbconvert_exporter": "python",
   "pygments_lexer": "ipython3",
   "version": "3.7.3"
  }
 },
 "nbformat": 4,
 "nbformat_minor": 2
}

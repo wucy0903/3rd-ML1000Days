{
 "cells": [
  {
   "cell_type": "markdown",
   "metadata": {
    "collapsed": true
   },
   "source": [
    "# 作業 : (Kaggle)鐵達尼生存預測"
   ]
  },
  {
   "cell_type": "markdown",
   "metadata": {},
   "source": [
    "# [作業目標]\n",
    "- 試著完成三種不同特徵類型的三種資料操作, 觀察結果\n",
    "- 思考一下, 這三種特徵類型, 哪一種應該最複雜/最難處理"
   ]
  },
  {
   "cell_type": "markdown",
   "metadata": {},
   "source": [
    "# [作業重點]\n",
    "- 完成剩餘的八種 類型 x 操作組合 (In[6]~In[13], Out[6]~Out[13])\n",
    "- 思考何種特徵類型, 應該最複雜"
   ]
  },
  {
   "cell_type": "code",
   "execution_count": 1,
   "metadata": {},
   "outputs": [
    {
     "data": {
      "text/plain": [
       "(891, 12)"
      ]
     },
     "execution_count": 1,
     "metadata": {},
     "output_type": "execute_result"
    }
   ],
   "source": [
    "# 載入基本套件\n",
    "import pandas as pd\n",
    "import numpy as np\n",
    "\n",
    "# 讀取訓練與測試資料\n",
    "data_path = 'data/'\n",
    "df_train = pd.read_csv(data_path + 'titanic_train.csv')\n",
    "df_test = pd.read_csv(data_path + 'titanic_test.csv')\n",
    "df_train.shape"
   ]
  },
  {
   "cell_type": "code",
   "execution_count": 2,
   "metadata": {},
   "outputs": [
    {
     "data": {
      "text/html": [
       "<div>\n",
       "<style scoped>\n",
       "    .dataframe tbody tr th:only-of-type {\n",
       "        vertical-align: middle;\n",
       "    }\n",
       "\n",
       "    .dataframe tbody tr th {\n",
       "        vertical-align: top;\n",
       "    }\n",
       "\n",
       "    .dataframe thead th {\n",
       "        text-align: right;\n",
       "    }\n",
       "</style>\n",
       "<table border=\"1\" class=\"dataframe\">\n",
       "  <thead>\n",
       "    <tr style=\"text-align: right;\">\n",
       "      <th></th>\n",
       "      <th>Pclass</th>\n",
       "      <th>Name</th>\n",
       "      <th>Sex</th>\n",
       "      <th>Age</th>\n",
       "      <th>SibSp</th>\n",
       "      <th>Parch</th>\n",
       "      <th>Ticket</th>\n",
       "      <th>Fare</th>\n",
       "      <th>Cabin</th>\n",
       "      <th>Embarked</th>\n",
       "    </tr>\n",
       "  </thead>\n",
       "  <tbody>\n",
       "    <tr>\n",
       "      <th>0</th>\n",
       "      <td>3</td>\n",
       "      <td>Braund, Mr. Owen Harris</td>\n",
       "      <td>male</td>\n",
       "      <td>22.0</td>\n",
       "      <td>1</td>\n",
       "      <td>0</td>\n",
       "      <td>A/5 21171</td>\n",
       "      <td>7.2500</td>\n",
       "      <td>NaN</td>\n",
       "      <td>S</td>\n",
       "    </tr>\n",
       "    <tr>\n",
       "      <th>1</th>\n",
       "      <td>1</td>\n",
       "      <td>Cumings, Mrs. John Bradley (Florence Briggs Th...</td>\n",
       "      <td>female</td>\n",
       "      <td>38.0</td>\n",
       "      <td>1</td>\n",
       "      <td>0</td>\n",
       "      <td>PC 17599</td>\n",
       "      <td>71.2833</td>\n",
       "      <td>C85</td>\n",
       "      <td>C</td>\n",
       "    </tr>\n",
       "    <tr>\n",
       "      <th>2</th>\n",
       "      <td>3</td>\n",
       "      <td>Heikkinen, Miss. Laina</td>\n",
       "      <td>female</td>\n",
       "      <td>26.0</td>\n",
       "      <td>0</td>\n",
       "      <td>0</td>\n",
       "      <td>STON/O2. 3101282</td>\n",
       "      <td>7.9250</td>\n",
       "      <td>NaN</td>\n",
       "      <td>S</td>\n",
       "    </tr>\n",
       "    <tr>\n",
       "      <th>3</th>\n",
       "      <td>1</td>\n",
       "      <td>Futrelle, Mrs. Jacques Heath (Lily May Peel)</td>\n",
       "      <td>female</td>\n",
       "      <td>35.0</td>\n",
       "      <td>1</td>\n",
       "      <td>0</td>\n",
       "      <td>113803</td>\n",
       "      <td>53.1000</td>\n",
       "      <td>C123</td>\n",
       "      <td>S</td>\n",
       "    </tr>\n",
       "    <tr>\n",
       "      <th>4</th>\n",
       "      <td>3</td>\n",
       "      <td>Allen, Mr. William Henry</td>\n",
       "      <td>male</td>\n",
       "      <td>35.0</td>\n",
       "      <td>0</td>\n",
       "      <td>0</td>\n",
       "      <td>373450</td>\n",
       "      <td>8.0500</td>\n",
       "      <td>NaN</td>\n",
       "      <td>S</td>\n",
       "    </tr>\n",
       "  </tbody>\n",
       "</table>\n",
       "</div>"
      ],
      "text/plain": [
       "   Pclass                                               Name     Sex   Age  \\\n",
       "0       3                            Braund, Mr. Owen Harris    male  22.0   \n",
       "1       1  Cumings, Mrs. John Bradley (Florence Briggs Th...  female  38.0   \n",
       "2       3                             Heikkinen, Miss. Laina  female  26.0   \n",
       "3       1       Futrelle, Mrs. Jacques Heath (Lily May Peel)  female  35.0   \n",
       "4       3                           Allen, Mr. William Henry    male  35.0   \n",
       "\n",
       "   SibSp  Parch            Ticket     Fare Cabin Embarked  \n",
       "0      1      0         A/5 21171   7.2500   NaN        S  \n",
       "1      1      0          PC 17599  71.2833   C85        C  \n",
       "2      0      0  STON/O2. 3101282   7.9250   NaN        S  \n",
       "3      1      0            113803  53.1000  C123        S  \n",
       "4      0      0            373450   8.0500   NaN        S  "
      ]
     },
     "execution_count": 2,
     "metadata": {},
     "output_type": "execute_result"
    }
   ],
   "source": [
    "# 重組資料成為訓練 / 預測用格式\n",
    "train_Y = df_train['Survived']\n",
    "ids = df_test['PassengerId']\n",
    "df_train = df_train.drop(['PassengerId', 'Survived'] , axis=1)\n",
    "df_test = df_test.drop(['PassengerId'] , axis=1)\n",
    "df = pd.concat([df_train,df_test])\n",
    "df.head()"
   ]
  },
  {
   "cell_type": "code",
   "execution_count": 3,
   "metadata": {},
   "outputs": [
    {
     "data": {
      "text/html": [
       "<div>\n",
       "<style scoped>\n",
       "    .dataframe tbody tr th:only-of-type {\n",
       "        vertical-align: middle;\n",
       "    }\n",
       "\n",
       "    .dataframe tbody tr th {\n",
       "        vertical-align: top;\n",
       "    }\n",
       "\n",
       "    .dataframe thead th {\n",
       "        text-align: right;\n",
       "    }\n",
       "</style>\n",
       "<table border=\"1\" class=\"dataframe\">\n",
       "  <thead>\n",
       "    <tr style=\"text-align: right;\">\n",
       "      <th></th>\n",
       "      <th>Column Type</th>\n",
       "      <th>Count</th>\n",
       "    </tr>\n",
       "  </thead>\n",
       "  <tbody>\n",
       "    <tr>\n",
       "      <th>0</th>\n",
       "      <td>int64</td>\n",
       "      <td>3</td>\n",
       "    </tr>\n",
       "    <tr>\n",
       "      <th>1</th>\n",
       "      <td>float64</td>\n",
       "      <td>2</td>\n",
       "    </tr>\n",
       "    <tr>\n",
       "      <th>2</th>\n",
       "      <td>object</td>\n",
       "      <td>5</td>\n",
       "    </tr>\n",
       "  </tbody>\n",
       "</table>\n",
       "</div>"
      ],
      "text/plain": [
       "  Column Type  Count\n",
       "0       int64      3\n",
       "1     float64      2\n",
       "2      object      5"
      ]
     },
     "execution_count": 3,
     "metadata": {},
     "output_type": "execute_result"
    }
   ],
   "source": [
    "# 秀出資料欄位的類型與數量\n",
    "dtype_df = df.dtypes.reset_index()\n",
    "dtype_df.columns = [\"Count\", \"Column Type\"]\n",
    "dtype_df = dtype_df.groupby(\"Column Type\").aggregate('count').reset_index()\n",
    "dtype_df"
   ]
  },
  {
   "cell_type": "code",
   "execution_count": 4,
   "metadata": {},
   "outputs": [
    {
     "name": "stdout",
     "output_type": "stream",
     "text": [
      "3 Integer Features : ['Pclass', 'SibSp', 'Parch']\n",
      "\n",
      "2 Float Features : ['Age', 'Fare']\n",
      "\n",
      "5 Object Features : ['Name', 'Sex', 'Ticket', 'Cabin', 'Embarked']\n"
     ]
    }
   ],
   "source": [
    "#確定只有 int64, float64, object 三種類型後, 分別將欄位名稱存於三個 list 中\n",
    "int_features = []\n",
    "float_features = []\n",
    "object_features = []\n",
    "for dtype, feature in zip(df.dtypes, df.columns):\n",
    "    if dtype == 'float64':\n",
    "        float_features.append(feature)\n",
    "    elif dtype == 'int64':\n",
    "        int_features.append(feature)\n",
    "    else:\n",
    "        object_features.append(feature)\n",
    "print(f'{len(int_features)} Integer Features : {int_features}\\n')\n",
    "print(f'{len(float_features)} Float Features : {float_features}\\n')\n",
    "print(f'{len(object_features)} Object Features : {object_features}')"
   ]
  },
  {
   "cell_type": "markdown",
   "metadata": {
    "collapsed": true
   },
   "source": [
    "# 作業1 \n",
    "* 試著執行作業程式，觀察三種類型 (int / float / object) 的欄位分別進行( 平均 mean / 最大值 Max / 相異值 nunique )  \n",
    "中的九次操作會有那些問題? 並試著解釋那些發生Error的程式區塊的原因?  \n",
    "\n",
    "# 作業2\n",
    "* 思考一下，試著舉出今天五種類型以外的一種或多種資料類型，你舉出的新類型是否可以歸在三大類中的某些大類?  \n",
    "所以三大類特徵中，哪一大類處理起來應該最複雜?"
   ]
  },
  {
   "cell_type": "code",
   "execution_count": 1,
   "metadata": {},
   "outputs": [
    {
     "name": "stdout",
     "output_type": "stream",
     "text": [
      "看有哪些型態的欄位 : \n",
      "  Column Type  Count\n",
      "0       int64     25\n",
      "1     float64     11\n",
      "2      object     43\n",
      " All columns of the integer type : ['MSSubClass', 'LotArea', 'OverallQual', 'OverallCond', 'YearBuilt', 'YearRemodAdd', '1stFlrSF', '2ndFlrSF', 'LowQualFinSF', 'GrLivArea', 'FullBath', 'HalfBath', 'BedroomAbvGr', 'KitchenAbvGr', 'TotRmsAbvGrd', 'Fireplaces', 'WoodDeckSF', 'OpenPorchSF', 'EnclosedPorch', '3SsnPorch', 'ScreenPorch', 'PoolArea', 'MiscVal', 'MoSold', 'YrSold'] . Total of them are 25.\n",
      "\n",
      " All columns of the float type : ['LotFrontage', 'MasVnrArea', 'BsmtFinSF1', 'BsmtFinSF2', 'BsmtUnfSF', 'TotalBsmtSF', 'BsmtFullBath', 'BsmtHalfBath', 'GarageYrBlt', 'GarageCars', 'GarageArea'] . Total of them are 25.\n",
      "\n",
      " All columns of the object type : ['MSZoning', 'Street', 'Alley', 'LotShape', 'LandContour', 'Utilities', 'LotConfig', 'LandSlope', 'Neighborhood', 'Condition1', 'Condition2', 'BldgType', 'HouseStyle', 'RoofStyle', 'RoofMatl', 'Exterior1st', 'Exterior2nd', 'MasVnrType', 'ExterQual', 'ExterCond', 'Foundation', 'BsmtQual', 'BsmtCond', 'BsmtExposure', 'BsmtFinType1', 'BsmtFinType2', 'Heating', 'HeatingQC', 'CentralAir', 'Electrical', 'KitchenQual', 'Functional', 'FireplaceQu', 'GarageType', 'GarageFinish', 'GarageQual', 'GarageCond', 'PavedDrive', 'PoolQC', 'Fence', 'MiscFeature', 'SaleType', 'SaleCondition'] . Total of them are 43.\n",
      "\n"
     ]
    }
   ],
   "source": [
    "# 作業1\n",
    "import pandas as pd\n",
    "import numpy as np \n",
    "\n",
    "training_dataframe = pd.read_csv('./house_train.csv.gz')\n",
    "testing_dataframe = pd.read_csv('./house_test.csv.gz')\n",
    "training_target =  training_dataframe['SalePrice']\n",
    "training_dataframe = training_dataframe.drop(['Id','SalePrice'] ,axis = 1)\n",
    "testing_dataframe = testing_dataframe.drop(['Id'] , axis = 1)\n",
    "\n",
    "all_dataframe = pd.concat ([training_dataframe, testing_dataframe])\n",
    "\n",
    "# 玩資料型態\n",
    "dtype_series = all_dataframe.dtypes.reset_index()\n",
    "dtype_series.columns = ['Count' , 'Column Type']\n",
    "res_count = dtype_series.groupby('Column Type').count().reset_index()\n",
    "print ('看有哪些型態的欄位 : ')\n",
    "print (res_count)\n",
    "\n",
    "list_for_int = list()\n",
    "list_for_float = list()\n",
    "list_for_object = list()\n",
    "\n",
    "for dtype, column_topic in zip(all_dataframe.dtypes, all_dataframe.columns):\n",
    "    if dtype == 'float64':\n",
    "        list_for_float.append(column_topic)\n",
    "    elif dtype == 'int64':\n",
    "        list_for_int.append(column_topic)\n",
    "    else:\n",
    "        list_for_object.append(column_topic)\n",
    "\n",
    "print (f' All columns of the integer type : {list_for_int} . Total of them are {len(list_for_int)}.\\n')\n",
    "print (f' All columns of the float type : {list_for_float} . Total of them are {len(list_for_int)}.\\n')\n",
    "print (f' All columns of the object type : {list_for_object} . Total of them are {len(list_for_object)}.\\n')\n",
    "\n"
   ]
  },
  {
   "cell_type": "code",
   "execution_count": 2,
   "metadata": {},
   "outputs": [
    {
     "name": "stdout",
     "output_type": "stream",
     "text": [
      "  Column Names   Mean Values\n",
      "0   MSSubClass     57.137718\n",
      "1      LotArea  10168.114080\n",
      "2  OverallQual      6.089072\n",
      "3  OverallCond      5.564577\n",
      "4    YearBuilt   1971.312778\n",
      "----------------------------------------\n",
      "  Column Names  Max Values\n",
      "0   MSSubClass         190\n",
      "1      LotArea      215245\n",
      "2  OverallQual          10\n",
      "3  OverallCond           9\n",
      "4    YearBuilt        2010\n",
      "----------------------------------------\n",
      "  Column Names  Numbers of Unique Value\n",
      "0   MSSubClass                       16\n",
      "1      LotArea                     1951\n",
      "2  OverallQual                       10\n",
      "3  OverallCond                        9\n",
      "4    YearBuilt                      118\n"
     ]
    }
   ],
   "source": [
    "int_data = all_dataframe[list_for_int]\n",
    "means = int_data.mean()\n",
    "maxs = int_data.max()\n",
    "nuniques = int_data.nunique()\n",
    "means = means.reset_index()\n",
    "maxs = maxs.reset_index()\n",
    "nuniques = nuniques.reset_index()\n",
    "means.columns = ['Column Names','Mean Values']\n",
    "maxs.columns = ['Column Names','Max Values']\n",
    "nuniques.columns = ['Column Names','Numbers of Unique Value']\n",
    "\n",
    "print(means.head())\n",
    "print ('-'*40)\n",
    "print (maxs.head())\n",
    "print ('-'*40)\n",
    "print (nuniques.head())"
   ]
  },
  {
   "cell_type": "code",
   "execution_count": 3,
   "metadata": {},
   "outputs": [
    {
     "name": "stdout",
     "output_type": "stream",
     "text": [
      "  Column Names  Mean Values\n",
      "0  LotFrontage    69.305795\n",
      "1   MasVnrArea   102.201312\n",
      "2   BsmtFinSF1   441.423235\n",
      "3   BsmtFinSF2    49.582248\n",
      "4    BsmtUnfSF   560.772104\n",
      "----------------------------------------\n",
      "  Column Names  Max Values\n",
      "0  LotFrontage       313.0\n",
      "1   MasVnrArea      1600.0\n",
      "2   BsmtFinSF1      5644.0\n",
      "3   BsmtFinSF2      1526.0\n",
      "4    BsmtUnfSF      2336.0\n",
      "----------------------------------------\n",
      "  Column Names  Numbers of Unique Value\n",
      "0  LotFrontage                      128\n",
      "1   MasVnrArea                      444\n",
      "2   BsmtFinSF1                      991\n",
      "3   BsmtFinSF2                      272\n",
      "4    BsmtUnfSF                     1135\n"
     ]
    }
   ],
   "source": [
    "float_data = all_dataframe[list_for_float]\n",
    "means = float_data.mean()\n",
    "maxs = float_data.max()\n",
    "nuniques = float_data.nunique()\n",
    "means = means.reset_index()\n",
    "maxs = maxs.reset_index()\n",
    "nuniques = nuniques.reset_index()\n",
    "means.columns = ['Column Names','Mean Values']\n",
    "maxs.columns = ['Column Names','Max Values']\n",
    "nuniques.columns = ['Column Names','Numbers of Unique Value']\n",
    "\n",
    "print(means.head())\n",
    "print ('-'*40)\n",
    "print (maxs.head())\n",
    "print ('-'*40)\n",
    "print (nuniques.head())"
   ]
  },
  {
   "cell_type": "code",
   "execution_count": 4,
   "metadata": {},
   "outputs": [
    {
     "name": "stdout",
     "output_type": "stream",
     "text": [
      "Empty DataFrame\n",
      "Columns: [Column Names, Mean Values]\n",
      "Index: []\n",
      "----------------------------------------\n",
      "Empty DataFrame\n",
      "Columns: [Column Names, Max Values]\n",
      "Index: []\n",
      "----------------------------------------\n",
      "  Column Names  Numbers of Unique Value\n",
      "0     MSZoning                        5\n",
      "1       Street                        2\n",
      "2        Alley                        2\n",
      "3     LotShape                        4\n",
      "4  LandContour                        4\n"
     ]
    }
   ],
   "source": [
    "object_data = all_dataframe[list_for_object]\n",
    "\n",
    "means = object_data.mean()\n",
    "maxs = object_data.max()\n",
    "nuniques = object_data.nunique()\n",
    "means = means.reset_index()\n",
    "maxs = maxs.reset_index()\n",
    "nuniques = nuniques.reset_index()\n",
    "means.columns = ['Column Names','Mean Values']\n",
    "maxs.columns = ['Column Names','Max Values']\n",
    "nuniques.columns = ['Column Names','Numbers of Unique Value']\n",
    "\n",
    "print(means.head())\n",
    "print ('-'*40)\n",
    "print (maxs.head())\n",
    "print ('-'*40)\n",
    "print (nuniques.head())"
   ]
  },
  {
   "cell_type": "markdown",
   "metadata": {},
   "source": [
    "## 作業一\n",
    "* 三種類型的各欄位的 Mean、Max 和 Nunique的值都可以顯示，並沒有發現什麼Errors!!(呈現結果如上方所示)\n",
    "* 在最後一個呈現的示例中，也就是object型態的欄位，因為Mean 和 Max 需要數值的大小計算，所以Mean和Max所呈現的結果為一個空的DataFrame。"
   ]
  },
  {
   "cell_type": "code",
   "execution_count": 5,
   "metadata": {},
   "outputs": [
    {
     "data": {
      "text/html": [
       "<div>\n",
       "<style scoped>\n",
       "    .dataframe tbody tr th:only-of-type {\n",
       "        vertical-align: middle;\n",
       "    }\n",
       "\n",
       "    .dataframe tbody tr th {\n",
       "        vertical-align: top;\n",
       "    }\n",
       "\n",
       "    .dataframe thead th {\n",
       "        text-align: right;\n",
       "    }\n",
       "</style>\n",
       "<table border=\"1\" class=\"dataframe\">\n",
       "  <thead>\n",
       "    <tr style=\"text-align: right;\">\n",
       "      <th></th>\n",
       "      <th>cName</th>\n",
       "      <th>Type</th>\n",
       "    </tr>\n",
       "  </thead>\n",
       "  <tbody>\n",
       "    <tr>\n",
       "      <th>0</th>\n",
       "      <td>col1</td>\n",
       "      <td>bool</td>\n",
       "    </tr>\n",
       "    <tr>\n",
       "      <th>1</th>\n",
       "      <td>col2</td>\n",
       "      <td>object</td>\n",
       "    </tr>\n",
       "  </tbody>\n",
       "</table>\n",
       "</div>"
      ],
      "text/plain": [
       "  cName    Type\n",
       "0  col1    bool\n",
       "1  col2  object"
      ]
     },
     "execution_count": 5,
     "metadata": {},
     "output_type": "execute_result"
    }
   ],
   "source": [
    "df = pd.DataFrame([{'col1':True, 'col2':'1'}, {'col1':False, 'col2':'2'}])\n",
    "df_type = df.dtypes.reset_index()\n",
    "df_type.columns = ['cName', 'Type']\n",
    "df_type"
   ]
  },
  {
   "cell_type": "code",
   "execution_count": 6,
   "metadata": {},
   "outputs": [
    {
     "data": {
      "text/plain": [
       "True"
      ]
     },
     "execution_count": 6,
     "metadata": {},
     "output_type": "execute_result"
    }
   ],
   "source": [
    "df.loc[0,'col1'].astype('object')"
   ]
  },
  {
   "cell_type": "code",
   "execution_count": 7,
   "metadata": {},
   "outputs": [
    {
     "data": {
      "text/plain": [
       "1"
      ]
     },
     "execution_count": 7,
     "metadata": {},
     "output_type": "execute_result"
    }
   ],
   "source": [
    "df.loc[0,'col1'].astype('int')"
   ]
  },
  {
   "cell_type": "code",
   "execution_count": 8,
   "metadata": {},
   "outputs": [
    {
     "data": {
      "text/plain": [
       "1.0"
      ]
     },
     "execution_count": 8,
     "metadata": {},
     "output_type": "execute_result"
    }
   ],
   "source": [
    "df.loc[0,'col1'].astype('float')"
   ]
  },
  {
   "cell_type": "markdown",
   "metadata": {},
   "source": [
    "## 作業二\n",
    "---\n",
    "### 我挑的型態為Boolean\n",
    "---\n",
    "\n",
    "* 從上面示例可以看出 ，Boolean 可以轉換成三種型態，若轉成int，會用0表示False，1表示True。若轉成float，會用1.0表示True，0.0表示False。若轉成Object，依然會用原本的True表示True，False表示False。"
   ]
  },
  {
   "cell_type": "code",
   "execution_count": null,
   "metadata": {},
   "outputs": [],
   "source": []
  }
 ],
 "metadata": {
  "kernelspec": {
   "display_name": "Python 3",
   "language": "python",
   "name": "python3"
  },
  "language_info": {
   "codemirror_mode": {
    "name": "ipython",
    "version": 3
   },
   "file_extension": ".py",
   "mimetype": "text/x-python",
   "name": "python",
   "nbconvert_exporter": "python",
   "pygments_lexer": "ipython3",
   "version": "3.6.5"
  }
 },
 "nbformat": 4,
 "nbformat_minor": 2
}

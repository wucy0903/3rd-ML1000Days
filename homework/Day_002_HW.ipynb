{
 "cells": [
  {
   "cell_type": "markdown",
   "metadata": {},
   "source": [
    "## [作業目標]\n",
    "了解機器學習適合應用的領域與範疇。"
   ]
  },
  {
   "cell_type": "markdown",
   "metadata": {},
   "source": [
    "## [作業重點]\n",
    "透過瞭解機器學習的運作方式，找出非常適用機器學習應用的領域及其原因"
   ]
  },
  {
   "cell_type": "markdown",
   "metadata": {},
   "source": [
    "## 作業\n",
    "請找出一個你認為機器學習可以發光發熱的領域並闡述原因? "
   ]
  },
  {
   "cell_type": "markdown",
   "metadata": {},
   "source": [
    "### 智慧家具\n",
    "---\n",
    "我覺得目前來說變動性可掌握的事情交給機器找規律而自動化是目前比較可行的，以智慧家具來說，例如 : (1) 智慧除濕機 : 當偵測到濕度過高且沒有人在家時，自動啟動 (2) 智慧植物灑水器 : 偵測植物泥土濕度，當濕度過低影響到植物時，自動灑水。 (3) 自動開關 : 當偵測有人在此空間時，自動開啟開關。 (4)...等等多項經特定features分析即可決定行為的自動化家具。<br>\n",
    "我覺得這會發光發熱的原因是使人類能夠增加安全性及方便性，可以提升人類的生活品質及便利性，許多瑣碎的事情，都由機器自動完成，Ex : 不會忘記關燈、不會忘記澆水...等等。 許多危險也可能避免，例如 : 偵測到化碳濃度過高，則關閉相關設備。 人類用機器學習往往是為了偷懶而達成方便性，這感覺會是近期較能實現的發展的方向。當然若能加入語言控制會能有更多的應用，但是語意理解目前對機器來說還太難，人類還有諷刺語氣等等複雜的語意，機器對完全理解自然語言還有很大的進步空間。\n"
   ]
  },
  {
   "cell_type": "code",
   "execution_count": null,
   "metadata": {},
   "outputs": [],
   "source": []
  }
 ],
 "metadata": {
  "kernelspec": {
   "display_name": "Python 3",
   "language": "python",
   "name": "python3"
  },
  "language_info": {
   "codemirror_mode": {
    "name": "ipython",
    "version": 3
   },
   "file_extension": ".py",
   "mimetype": "text/x-python",
   "name": "python",
   "nbconvert_exporter": "python",
   "pygments_lexer": "ipython3",
   "version": "3.6.5"
  }
 },
 "nbformat": 4,
 "nbformat_minor": 2
}

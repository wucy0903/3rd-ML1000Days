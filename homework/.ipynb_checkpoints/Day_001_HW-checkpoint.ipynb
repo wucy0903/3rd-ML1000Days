{
 "cells": [
  {
   "cell_type": "markdown",
   "metadata": {},
   "source": [
    "## 練習時間\n",
    "#### 請寫一個函式用來計算 Mean Square Error\n",
    "$ MSE = \\frac{1}{n}\\sum_{i=1}^{n}{(Y_i - \\hat{Y}_i)^2} $\n",
    "\n",
    "### Hint: [如何取平方](https://googoodesign.gitbooks.io/-ezpython/unit-1.html)"
   ]
  },
  {
   "cell_type": "markdown",
   "metadata": {},
   "source": [
    "# [作業目標]\n",
    "- 仿造範例的MAE函數, 自己寫一個MSE函數(參考上面公式)"
   ]
  },
  {
   "cell_type": "markdown",
   "metadata": {},
   "source": [
    "# [作業重點]\n",
    "- 注意程式的縮排\n",
    "- 是否能將數學公式, 轉換為 Python 的函式組合? (In[2], Out[2])"
   ]
  },
  {
   "cell_type": "code",
   "execution_count": 4,
   "metadata": {},
   "outputs": [],
   "source": [
    "# 載入基礎套件與代稱\n",
    "import numpy as np\n",
    "import matplotlib.pyplot as plt"
   ]
  },
  {
   "cell_type": "code",
   "execution_count": 9,
   "metadata": {},
   "outputs": [],
   "source": [
    "def mean_absolute_error(y, yp):\n",
    "    \"\"\"\n",
    "    計算 MAE\n",
    "    Args:\n",
    "        - y: 實際值\n",
    "        - yp: 預測值\n",
    "    Return:\n",
    "        - mae: MAE\n",
    "    \"\"\"\n",
    "    mae = MAE = sum(abs(y - yp)) / len(y)\n",
    "    return mae\n",
    "\n",
    "# 定義 mean_squared_error 這個函數, 計算並傳回 MSE\n",
    "def mean_squared_error(y_target, y_predict):\n",
    "    '''\n",
    "    計算 MSE\n",
    "    Args: \n",
    "        - y_target : 實際值\n",
    "        - y_predict : 預測值\n",
    "    Return:\n",
    "        - mse : MSE \n",
    "    '''\n",
    "\n",
    "    # Implement the Mean Square Error\n",
    "    mse = MSE = (sum(pow((y_target - y_predict), 2)))/ len(y_target)\n",
    "    return mse"
   ]
  },
  {
   "cell_type": "code",
   "execution_count": 10,
   "metadata": {},
   "outputs": [
    {
     "data": {
      "image/png": "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\n",
      "text/plain": [
       "<Figure size 432x288 with 1 Axes>"
      ]
     },
     "metadata": {},
     "output_type": "display_data"
    }
   ],
   "source": [
    "# 與範例相同, 不另外解說\n",
    "w = 3\n",
    "b = 0.5\n",
    "x_lin = np.linspace(0, 100, 101)\n",
    "y = (x_lin + np.random.randn(101) * 5) * w + b\n",
    "\n",
    "plt.plot(x_lin, y, 'b.', label = 'data points')\n",
    "plt.title(\"Assume we have data points\")\n",
    "plt.legend(loc = 2)\n",
    "plt.show()"
   ]
  },
  {
   "cell_type": "code",
   "execution_count": 11,
   "metadata": {},
   "outputs": [
    {
     "data": {
      "image/png": "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\n",
      "text/plain": [
       "<Figure size 432x288 with 1 Axes>"
      ]
     },
     "metadata": {},
     "output_type": "display_data"
    }
   ],
   "source": [
    "# 與範例相同, 不另外解說\n",
    "y_hat = x_lin * w + b\n",
    "plt.plot(x_lin, y, 'b.', label = 'data')\n",
    "plt.plot(x_lin, y_hat, 'r-', label = 'prediction')\n",
    "plt.title(\"Assume we have data points (And the prediction)\")\n",
    "plt.legend(loc = 2)\n",
    "plt.show()"
   ]
  },
  {
   "cell_type": "code",
   "execution_count": 12,
   "metadata": {},
   "outputs": [
    {
     "name": "stdout",
     "output_type": "stream",
     "text": [
      "The Mean squared error is 266.472\n",
      "The Mean absolute error is 12.416\n"
     ]
    }
   ],
   "source": [
    "# 執行 Function, 確認有沒有正常執行\n",
    "MSE = mean_squared_error(y, y_hat)\n",
    "MAE = mean_absolute_error(y, y_hat)\n",
    "print(\"The Mean squared error is %.3f\" % (MSE))\n",
    "print(\"The Mean absolute error is %.3f\" % (MAE))"
   ]
  },
  {
   "attachments": {
    "%E6%93%B7%E5%8F%96.PNG": {
     "image/png": "iVBORw0KGgoAAAANSUhEUgAAAFwAAAAyCAYAAADREbxyAAAAAXNSR0IArs4c6QAAAARnQU1BAACxjwv8YQUAAAAJcEhZcwAADsMAAA7DAcdvqGQAAAViSURBVHhe7ZpPa6NaGIfvB/QruAqFCYVs4koKNwxUypVCs7lhFilMGCgWKnfRgWKhpAwWSgqDi5JuAiWFIWEgEBCKMPC771GTmtQ/J2qNpT7ggE7qOT76vuccff9CRaFUwgtm68LHF20Yj/7OO8e+66F3Z/t74cQLn5roHsiQdgSIuyr0+/iTpWF4IqB37+8EGF+qkOU6REGAwDaxjtb3Ef3PBP3DmneMbTsS5OMB8uvZGMY/MuRd0W9DRF1WcM6a9rFvu6iLgfZPLDh0fHatQLmaeD+KIFr4fIDOjor+lO2wi/Q60L7JV3qUcA8H1rF3YeqPmX+MmJlQxRb0B9u90Dfhdx+KK7yDwbN/bAn5OBChXoxg//EPEZmEj/5roHEauK2/DLRYBz5pCBzNTLxwUm71vKd8z6DLJJ6H0JoSNK5oszG+0dA+aKP7TYd+1kV7X0H7pI/R3P9JJDbMI+9md+6Ct9WhPkuQToavoiqD8BnMQ9aYiJ61aGwEvcGOSTh/8g/lQJLwl3ZlGE9eOlETLsqDUsNnGZ2bMZzAU8hwfpnoNBU/eqOxb9qucOHLYBlJk2sVtcM+JmvnZGQQ7mB0KrlytYdFUzMKI++OxwsiphbOr0Zc4Z4s3Is298LpAZBPXz9ZYTBZre9jfy+Ep3PIR2b8ueYm2m67bZgUEc6DBqmpYRjxR9ly+DqOhR4bKETKaQnhOPuh0u+oY/5+HDzCl+lM6MEKebLCSD4vpSY6X3wfX9KKeqpDXY5p4eQqfHKluE9YdDiPoNENadGIPbM0CPsGRo8G2jTDUa4DA94aPMIntx1IrnAB3Z88cZOX8EBaYdGeMG7kJtwNJWqwcxN/MszHGJypyylT7e8Ozq3JqxwaJEnMIozNS//Ck9KAT17CMdJRZ+1+tfwD0eQjfNp3Q8l49C/zmaZiUQJ94dIOTSFFETW5TcJnsbk8VozfthvGi5QmqDCjA2ZJXsK9yOabDmcXzi5Y7sBc5i0bg3/liFkKSykiWqeUUn72/JTSp9lAypTCpn/yas4cnnhrAfkiIdKIfISz62U3WYGRMKNhZBM+pYVPk1Z3XzSav7I5LNs6NHiFLQRWYQ0LQoZBc26RbBGd27WnisK7wcKbYy2Qj3D6DYuqhp7YHiOD8MU8PGTjaXw+RJ/mv5vmWvYuYmU5v/MyI3LutcBym8aHJi2/v3lL6jCyCac5/AGdv7l4hVCDtCdDv48fsPPJ4W9Msph0ONMRJrF3nFahDxOuh4KXDy18G1TCC6YSXjDvQnjsvP694diwExbC2xf+waiEF0wlvGBeCV8sLKotn22d6gkvmEp4wVTCC6YSXjCphedXMTWGcWTQv29PLn22B+h9TV94lFp41JJ884opnvfS+RDs83o/xV0ZittPn/kA3eXrYPZ6VoPFvgOwAqH9vlcjk4LchXtsUjG1HeEeL6Ufq8U+HuzzmnhorBYNlVM4+wTJWzGVRvgM5pGK/m9/l5OwPocV+zAia1DKKpx94+SrmEonvH+QXDm1Tmifl8U+gU+HwY/X65RXOCnnqpjasnDq1aLYx/0yn1S7WGbhfBVT2xYeSCuHGvSk2sUyC+ermNq+8Je0IoRWxa5Q2kGTu2IqQfifMcxlmcZi60Ft1KEcrx/XYcbMs6P7TOPNp6RI9Cml8I0qpkrwhFN/3eJ7njK60gnfuGKqBDmcUh/rn3LJobFUwlNVTG1fuPdANKDzlFeVQXi2iqntCR9fKJD3JNSCfTsbRlZzuZR10OSnBDl8Ez6mcIoce/Pyikq4SzrhaaiEu1TC+cixYspJKlfKi1z67MDO0N/0witSUQkvmEp4wVTCCwX4H1T7ONdAokdZAAAAAElFTkSuQmCC"
    }
   },
   "cell_type": "markdown",
   "metadata": {},
   "source": [
    "# [作業2]\n",
    "\n",
    "請上 Kaggle, 在 Competitions 或 Dataset 中找一組競賽或資料並寫下：\n",
    "\n",
    "1. 你選的這組資料為何重要 <br>\n",
    "    <font color = 'red'> Ans : <br>我在Kaggle上找的競賽為 Severstal: Steel Defect Detection (https://www.kaggle.com/c/severstal-steel-defect-detection) ，這組資料可以用來訓練模型來偵測<b>鋼的品質</b>，如果模型夠準，可以讓公司在品質檢查的部分自動化，減少人力成本。</font>\n",
    "\n",
<<<<<<< HEAD
    "2. 資料從何而來 (tips: 譬如提供者是誰、以什麼方式蒐集)<br>\n",
    "    <font color = 'red'> Ans : <br>由Severstal 提供的，資料集的圖片是使用高頻攝影機所拍攝。</font>\n",
    "\n",
    "3. 蒐集而來的資料型態為何 <br>\n",
    "<font color = 'red'> Ans : <br>  (a) 結構化的表格，表格中有 : 1) 圖像的id (是唯一的) 2) 圖像鋼瑕疵的種類 3) 在圖像中瑕疵的位置標註。<br> (b) 非結構化的圖像，其也有提供訓練及測試的圖片檔資料集。 </font>\n",
    "\n",
    "4. 這組資料想解決的問題如何評估<br>\n",
    "<font color = 'red'> Ans : <br> Kaggle 平台表明 他們的評估方式會用 Mean Dice coefficient。其算是分類問題，而這個評估方式和文件中的F1-score非常類似，即同時考慮Precision 和 Recall。其公式如下 : <br></font>\n",
    "![%E6%93%B7%E5%8F%96.PNG](attachment:%E6%93%B7%E5%8F%96.PNG)\n",
=======
    "2. 資料從何而來 (tips: 譬如提供者是誰、以什麼方式蒐集)\n",
    "    <font color = 'red'> Ans : <br>由Severstal 提供的，資料集的圖片是使用高頻攝影機所拍攝。</font>\n",
    "\n",
    "3. 蒐集而來的資料型態為何\n",
    "<font color = 'red'> Ans : <br>  (a) 結構化的表格，表格中有 : 1) 圖像的id (是唯一的) 2) 圖像鋼瑕疵的種類 3) 在圖像中瑕疵的位置標註。<br> (b) 非結構化的圖像，其也有提供訓練及測試的圖片檔資料集。 </font>\n",
    "\n",
    "4. 這組資料想解決的問題如何評估\n",
    "<font color = 'red'> Ans : <br> Kaggle 平台表明 他們的評估方式會用 Mean Dice coefficient。其算是分類問題，而這個評估方式和文件中的F1-score非常類似，即同時考慮Precision 和 Recall。其公式如下 : <br></font>![%E6%93%B7%E5%8F%96.PNG](attachment:%E6%93%B7%E5%8F%96.PNG)\n",
>>>>>>> 3efe5aa8b210adb57680176c48160ed8e1463d2a
    "    \n",
    "    \n",
    "\n",
    "\n"
   ]
  },
  {
   "cell_type": "markdown",
   "metadata": {},
   "source": []
  },
  {
   "cell_type": "markdown",
   "metadata": {},
   "source": [
    "# [作業3]\n",
    "\n",
    "想像你經營一個自由載客車隊，你希望能透過數據分析以提升業績，請你思考並描述你如何規劃整體的分析/解決方案：\n",
    "\n",
<<<<<<< HEAD
    "1. 核心問題為何 (tips：如何定義 「提升業績 & 你的假設」) <br>\n",
    " <font color = 'red'> Ans : <br>\n",
    "    提升業績 : 車隊載客頻率增加 <br>\n",
    "    假設 : 假設車隊的計程車數量固定，增加各個計程車的載客頻率可以提升業績。\n",
    "    <br>解決方法 : 首先先了解目前各載客熱門點(Ex : 火車站、高鐵站 等等)的其他家計程車的數量，分析各點還需要派多少車過去，將分析出來個點的數量由多到少排序，然後派各點預測數量-1~-2台的計程車以盡量減少計程車空車等待的機率。\n",
    "</font>\n",
    "\n",
    "2. 資料從何而來 (tips：哪些資料可能會對你想問的問題產生影響 & 資料如何蒐集) <br> \n",
    " <font color = 'red'> Ans : <br>\n",
    "可能影響的資料 : <br>\n",
    "(1) 公車和接駁車班次的時間 : 因為若離公車來的時間很近的時間點，搭車意願應該比較低落，畢竟計程車比公車貴很多。(網路爬蟲即可得)<br>\n",
    "(2) 火車、高鐵的到站時間 : 因為火車和高鐵一班的乘客人數非常大量，往往是需要比較多計程車的地方。(網路爬蟲蒐集) <br>\n",
    "(3) 各點其他家計程車的數量 : 為了減少派過多計程車的情況。 (也許可以裝sensors感應目前停靠車輛數) <br>\n",
    "(4) 日期、星期 : 因為有可能周六周日乘車人入比較多，也可能某些特殊節日，某些點的乘車人數變多。(網路爬蟲) <br>\n",
    "(5) 載人地點 : 每個地點需要的乘客人數不一樣 (網路爬蟲爬熱門地點以及大眾交通地點)\n",
    "</font>\n",
    "\n",
    "3. 蒐集而來的資料型態為何<br>\n",
    "<font color = 'red'> Ans : <br>\n",
    "結構化的表格，將時間切割成多個片段，每個片段都有以下的資訊 :<br>\n",
    "    (1) 火車或高鐵的到站班數<br>\n",
    "    (2) 高車禍接駁車的到站班數 <br>\n",
    "    (3) 該時間片段的平均其他家計程車的數量 <br>\n",
    "    (4) 日期、星期 <br>\n",
    "    (5) 載人地點 <br>\n",
    "</font>\n",
    "\n",
    "4. 你要回答的問題，其如何評估 (tips：你的假設如何驗證) <br>\n",
    "<font color = 'red'> Ans : <br> \n",
    "將其視為一個迴歸問題，用Mean Square Error 來判斷預測的準確度。\n",
    "</font>"
=======
    "1. 核心問題為何 (tips：如何定義 「提升業績 & 你的假設」)\n",
    "\n",
    "2. 資料從何而來 (tips：哪些資料可能會對你想問的問題產生影響 & 資料如何蒐集)\n",
    "\n",
    "3. 蒐集而來的資料型態為何\n",
    "\n",
    "4. 你要回答的問題，其如何評估 (tips：你的假設如何驗證)"
>>>>>>> 3efe5aa8b210adb57680176c48160ed8e1463d2a
   ]
  },
  {
   "cell_type": "code",
   "execution_count": null,
   "metadata": {},
   "outputs": [],
   "source": []
  }
 ],
 "metadata": {
  "anaconda-cloud": {},
  "kernelspec": {
   "display_name": "Python 3",
   "language": "python",
   "name": "python3"
  },
  "language_info": {
   "codemirror_mode": {
    "name": "ipython",
    "version": 3
   },
   "file_extension": ".py",
   "mimetype": "text/x-python",
   "name": "python",
   "nbconvert_exporter": "python",
   "pygments_lexer": "ipython3",
   "version": "3.6.5"
  }
 },
 "nbformat": 4,
 "nbformat_minor": 1
}
